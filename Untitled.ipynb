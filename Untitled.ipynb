{
 "cells": [
  {
   "cell_type": "code",
   "execution_count": 5,
   "id": "814d6815",
   "metadata": {},
   "outputs": [],
   "source": [
    "import torch, os\n",
    "import torch.nn as nn\n",
    "import torch.optim as optim\n",
    "import torchvision.datasets as datasets\n",
    "import torch.utils.data as data\n",
    "import torchvision.transforms as transforms\n",
    "import torchvision.models as models\n",
    "from train_model import train_model\n",
    "from test_model import test_model\n",
    "%matplotlib inline"
   ]
  },
  {
   "cell_type": "code",
   "execution_count": null,
   "id": "a9648dd0",
   "metadata": {},
   "outputs": [],
   "source": [
    "## make subfolder for images"
   ]
  },
  {
   "cell_type": "code",
   "execution_count": null,
   "id": "63d44ed5",
   "metadata": {},
   "outputs": [],
   "source": [
    "def inference(image_dir, pred_file):\n",
    "    model = models.resnet18()\n",
    "    model.avgpool = nn.AdaptiveAvgPool2d(1)\n",
    "    model.fc.out_features = 200\n",
    "    device = torch.device('cuda:0' if torch.cuda.is_available() else 'cpu')\n",
    "    model.load_state_dict(torch.load('models/224/model_10_epoch.pt'))\n",
    "    model = model.to(device)\n",
    "    criterion = nn.CrossEntropyLoss()\n",
    "    optimizer = optim.SGD(model.parameters(), lr=0.001, momentum=0.9)\n",
    "    \n",
    "    model.eval()\n",
    "    \n",
    "    data_transforms = transforms.Compose([\n",
    "        transforms.ToTensor(),\n",
    "        transforms.Normalize([0.4802, 0.4481, 0.3975], [0.2302, 0.2265, 0.2262])\n",
    "    ])\n",
    "    \n",
    "    \n",
    "    image_dataset = datasets.ImageFolder(image_dir, data_transforms, data_transforms)\n",
    "    num_workers = 0\n",
    "    \n",
    "    dataloaders = data.DataLoader(image_dataset, batch_size=100, shuffle=False, num_workers=num_workers)\n",
    "    "
   ]
  }
 ],
 "metadata": {
  "kernelspec": {
   "display_name": "Python 3 (ipykernel)",
   "language": "python",
   "name": "python3"
  },
  "language_info": {
   "codemirror_mode": {
    "name": "ipython",
    "version": 3
   },
   "file_extension": ".py",
   "mimetype": "text/x-python",
   "name": "python",
   "nbconvert_exporter": "python",
   "pygments_lexer": "ipython3",
   "version": "3.8.8"
  }
 },
 "nbformat": 4,
 "nbformat_minor": 5
}
