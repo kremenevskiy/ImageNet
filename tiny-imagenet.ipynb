{
 "cells": [
  {
   "cell_type": "code",
   "execution_count": null,
   "id": "5ca5f744",
   "metadata": {
    "papermill": {
     "duration": 0.022699,
     "end_time": "2022-01-26T19:34:44.435086",
     "exception": false,
     "start_time": "2022-01-26T19:34:44.412387",
     "status": "completed"
    },
    "tags": []
   },
   "outputs": [],
   "source": []
  },
  {
   "cell_type": "code",
   "execution_count": 1,
   "id": "1a2dd9fc",
   "metadata": {
    "_cell_guid": "b1076dfc-b9ad-4769-8c92-a6c4dae69d19",
    "_uuid": "8f2839f25d086af736a60e9eeb907d3b93b6e0e5",
    "execution": {
     "iopub.execute_input": "2022-01-26T19:34:44.491439Z",
     "iopub.status.busy": "2022-01-26T19:34:44.490576Z",
     "iopub.status.idle": "2022-01-26T19:34:45.899727Z",
     "shell.execute_reply": "2022-01-26T19:34:45.898883Z",
     "shell.execute_reply.started": "2022-01-26T18:41:00.194115Z"
    },
    "papermill": {
     "duration": 1.441361,
     "end_time": "2022-01-26T19:34:45.899952",
     "exception": false,
     "start_time": "2022-01-26T19:34:44.458591",
     "status": "completed"
    },
    "tags": []
   },
   "outputs": [
    {
     "name": "stdout",
     "output_type": "stream",
     "text": [
      "Cloning into 'testImageNet'...\r\n",
      "remote: Enumerating objects: 21, done.\u001b[K\r\n",
      "remote: Counting objects: 100% (21/21), done.\u001b[K\r\n",
      "remote: Compressing objects: 100% (15/15), done.\u001b[K\r\n",
      "remote: Total 21 (delta 9), reused 18 (delta 6), pack-reused 0\u001b[K\r\n",
      "Unpacking objects: 100% (21/21), 4.62 KiB | 525.00 KiB/s, done.\r\n"
     ]
    }
   ],
   "source": [
    "!git clone https://github.com/kremenevskiy/testImageNet.git"
   ]
  },
  {
   "cell_type": "code",
   "execution_count": 2,
   "id": "a77b47b4",
   "metadata": {
    "execution": {
     "iopub.execute_input": "2022-01-26T19:34:45.988355Z",
     "iopub.status.busy": "2022-01-26T19:34:45.987522Z",
     "iopub.status.idle": "2022-01-26T19:38:02.882235Z",
     "shell.execute_reply": "2022-01-26T19:38:02.881669Z",
     "shell.execute_reply.started": "2022-01-26T18:41:01.355774Z"
    },
    "papermill": {
     "duration": 196.943367,
     "end_time": "2022-01-26T19:38:02.882374",
     "exception": false,
     "start_time": "2022-01-26T19:34:45.939007",
     "status": "completed"
    },
    "tags": []
   },
   "outputs": [
    {
     "name": "stdout",
     "output_type": "stream",
     "text": [
      "Installing requirements...\r\n",
      "Requirement already satisfied: torch in /opt/conda/lib/python3.7/site-packages (from -r requirements.txt (line 1)) (1.9.1)\r\n",
      "Requirement already satisfied: torchvision in /opt/conda/lib/python3.7/site-packages (from -r requirements.txt (line 2)) (0.10.1)\r\n",
      "Requirement already satisfied: opencv-python in /opt/conda/lib/python3.7/site-packages (from -r requirements.txt (line 3)) (4.5.4.60)\r\n",
      "Collecting livelossplot\r\n",
      "  Downloading livelossplot-0.5.4-py3-none-any.whl (22 kB)\r\n",
      "Collecting unzip\r\n",
      "  Downloading unzip-1.0.0.tar.gz (704 bytes)\r\n",
      "  Preparing metadata (setup.py) ... \u001b[?25l-\b \bdone\r\n",
      "\u001b[?25hRequirement already satisfied: typing-extensions in /opt/conda/lib/python3.7/site-packages (from torch->-r requirements.txt (line 1)) (3.10.0.2)\r\n",
      "Requirement already satisfied: numpy in /opt/conda/lib/python3.7/site-packages (from torchvision->-r requirements.txt (line 2)) (1.19.5)\r\n",
      "Requirement already satisfied: pillow>=5.3.0 in /opt/conda/lib/python3.7/site-packages (from torchvision->-r requirements.txt (line 2)) (8.2.0)\r\n",
      "Requirement already satisfied: matplotlib in /opt/conda/lib/python3.7/site-packages (from livelossplot->-r requirements.txt (line 4)) (3.5.1)\r\n",
      "Requirement already satisfied: bokeh in /opt/conda/lib/python3.7/site-packages (from livelossplot->-r requirements.txt (line 4)) (2.4.2)\r\n",
      "Requirement already satisfied: ipython in /opt/conda/lib/python3.7/site-packages (from livelossplot->-r requirements.txt (line 4)) (7.30.0)\r\n",
      "Requirement already satisfied: PyYAML>=3.10 in /opt/conda/lib/python3.7/site-packages (from bokeh->livelossplot->-r requirements.txt (line 4)) (6.0)\r\n",
      "Requirement already satisfied: tornado>=5.1 in /opt/conda/lib/python3.7/site-packages (from bokeh->livelossplot->-r requirements.txt (line 4)) (6.1)\r\n",
      "Requirement already satisfied: Jinja2>=2.9 in /opt/conda/lib/python3.7/site-packages (from bokeh->livelossplot->-r requirements.txt (line 4)) (3.0.3)\r\n",
      "Requirement already satisfied: packaging>=16.8 in /opt/conda/lib/python3.7/site-packages (from bokeh->livelossplot->-r requirements.txt (line 4)) (21.3)\r\n",
      "Requirement already satisfied: pygments in /opt/conda/lib/python3.7/site-packages (from ipython->livelossplot->-r requirements.txt (line 4)) (2.10.0)\r\n",
      "Requirement already satisfied: traitlets>=4.2 in /opt/conda/lib/python3.7/site-packages (from ipython->livelossplot->-r requirements.txt (line 4)) (5.1.1)\r\n",
      "Requirement already satisfied: decorator in /opt/conda/lib/python3.7/site-packages (from ipython->livelossplot->-r requirements.txt (line 4)) (5.1.0)\r\n",
      "Requirement already satisfied: pickleshare in /opt/conda/lib/python3.7/site-packages (from ipython->livelossplot->-r requirements.txt (line 4)) (0.7.5)\r\n",
      "Requirement already satisfied: pexpect>4.3 in /opt/conda/lib/python3.7/site-packages (from ipython->livelossplot->-r requirements.txt (line 4)) (4.8.0)\r\n",
      "Requirement already satisfied: matplotlib-inline in /opt/conda/lib/python3.7/site-packages (from ipython->livelossplot->-r requirements.txt (line 4)) (0.1.3)\r\n",
      "Requirement already satisfied: prompt-toolkit!=3.0.0,!=3.0.1,<3.1.0,>=2.0.0 in /opt/conda/lib/python3.7/site-packages (from ipython->livelossplot->-r requirements.txt (line 4)) (3.0.22)\r\n",
      "Requirement already satisfied: jedi>=0.16 in /opt/conda/lib/python3.7/site-packages (from ipython->livelossplot->-r requirements.txt (line 4)) (0.18.1)\r\n",
      "Requirement already satisfied: backcall in /opt/conda/lib/python3.7/site-packages (from ipython->livelossplot->-r requirements.txt (line 4)) (0.2.0)\r\n",
      "Requirement already satisfied: setuptools>=18.5 in /opt/conda/lib/python3.7/site-packages (from ipython->livelossplot->-r requirements.txt (line 4)) (59.4.0)\r\n",
      "Requirement already satisfied: pyparsing>=2.2.1 in /opt/conda/lib/python3.7/site-packages (from matplotlib->livelossplot->-r requirements.txt (line 4)) (3.0.6)\r\n",
      "Requirement already satisfied: cycler>=0.10 in /opt/conda/lib/python3.7/site-packages (from matplotlib->livelossplot->-r requirements.txt (line 4)) (0.11.0)\r\n",
      "Requirement already satisfied: python-dateutil>=2.7 in /opt/conda/lib/python3.7/site-packages (from matplotlib->livelossplot->-r requirements.txt (line 4)) (2.8.0)\r\n",
      "Requirement already satisfied: fonttools>=4.22.0 in /opt/conda/lib/python3.7/site-packages (from matplotlib->livelossplot->-r requirements.txt (line 4)) (4.28.2)\r\n",
      "Requirement already satisfied: kiwisolver>=1.0.1 in /opt/conda/lib/python3.7/site-packages (from matplotlib->livelossplot->-r requirements.txt (line 4)) (1.3.2)\r\n",
      "Requirement already satisfied: parso<0.9.0,>=0.8.0 in /opt/conda/lib/python3.7/site-packages (from jedi>=0.16->ipython->livelossplot->-r requirements.txt (line 4)) (0.8.3)\r\n",
      "Requirement already satisfied: MarkupSafe>=2.0 in /opt/conda/lib/python3.7/site-packages (from Jinja2>=2.9->bokeh->livelossplot->-r requirements.txt (line 4)) (2.0.1)\r\n",
      "Requirement already satisfied: ptyprocess>=0.5 in /opt/conda/lib/python3.7/site-packages (from pexpect>4.3->ipython->livelossplot->-r requirements.txt (line 4)) (0.7.0)\r\n",
      "Requirement already satisfied: wcwidth in /opt/conda/lib/python3.7/site-packages (from prompt-toolkit!=3.0.0,!=3.0.1,<3.1.0,>=2.0.0->ipython->livelossplot->-r requirements.txt (line 4)) (0.2.5)\r\n",
      "Requirement already satisfied: six>=1.5 in /opt/conda/lib/python3.7/site-packages (from python-dateutil>=2.7->matplotlib->livelossplot->-r requirements.txt (line 4)) (1.16.0)\r\n",
      "Building wheels for collected packages: unzip\r\n",
      "  Building wheel for unzip (setup.py) ... \u001b[?25l-\b \b\\\b \bdone\r\n",
      "\u001b[?25h  Created wheel for unzip: filename=unzip-1.0.0-py3-none-any.whl size=1321 sha256=2f2ea4e59371fd5b1a37268a576cb449ee138da7add9597fceb841220c9122b9\r\n",
      "  Stored in directory: /root/.cache/pip/wheels/c5/05/b3/f7b36dbaaf76de31b718cde792c953bfd11d2414a72f204b56\r\n",
      "Successfully built unzip\r\n",
      "Installing collected packages: unzip, livelossplot\r\n",
      "Successfully installed livelossplot-0.5.4 unzip-1.0.0\r\n",
      "\u001b[33mWARNING: Running pip as the 'root' user can result in broken permissions and conflicting behaviour with the system package manager. It is recommended to use a virtual environment instead: https://pip.pypa.io/warnings/venv\u001b[0m\r\n",
      "Downloading Tiny ImageNet...\r\n",
      "--2022-01-26 19:34:58--  http://cs231n.stanford.edu/tiny-imagenet-200.zip\r\n",
      "Resolving cs231n.stanford.edu (cs231n.stanford.edu)... 171.64.68.10\r\n",
      "Connecting to cs231n.stanford.edu (cs231n.stanford.edu)|171.64.68.10|:80... connected.\r\n",
      "HTTP request sent, awaiting response... 200 OK\r\n",
      "Length: 248100043 (237M) [application/zip]\r\n",
      "Saving to: ‘tiny-imagenet-200.zip’\r\n",
      "\r\n",
      "tiny-imagenet-200.z 100%[===================>] 236.61M  78.7MB/s    in 3.0s    \r\n",
      "\r\n",
      "2022-01-26 19:35:01 (78.7 MB/s) - ‘tiny-imagenet-200.zip’ saved [248100043/248100043]\r\n",
      "\r\n",
      "Unzipping Tiny ImageNet...\r\n",
      "Divide Validation folder to Validation / test (50/50) ...\r\n",
      "Copying all images to ./tiny-224...\r\n",
      "Resizing images to 224 x 224...\r\n"
     ]
    }
   ],
   "source": [
    "!cp testImageNet/* ./\n",
    "!sh run.sh"
   ]
  },
  {
   "cell_type": "code",
   "execution_count": 3,
   "id": "3b96a0a2",
   "metadata": {
    "execution": {
     "iopub.execute_input": "2022-01-26T19:38:02.959898Z",
     "iopub.status.busy": "2022-01-26T19:38:02.959042Z",
     "iopub.status.idle": "2022-01-26T19:38:04.822115Z",
     "shell.execute_reply": "2022-01-26T19:38:04.821154Z",
     "shell.execute_reply.started": "2022-01-26T18:44:10.955303Z"
    },
    "papermill": {
     "duration": 1.906823,
     "end_time": "2022-01-26T19:38:04.822271",
     "exception": false,
     "start_time": "2022-01-26T19:38:02.915448",
     "status": "completed"
    },
    "tags": []
   },
   "outputs": [],
   "source": [
    "import torch, os\n",
    "import torch.nn as nn\n",
    "import torch.optim as optim\n",
    "import torchvision.datasets as datasets\n",
    "import torch.utils.data as data\n",
    "import torchvision.transforms as transforms\n",
    "import torchvision.models as models\n",
    "from train_model import train_model\n",
    "from test_model import test_model"
   ]
  },
  {
   "cell_type": "code",
   "execution_count": 4,
   "id": "bb0ca7df",
   "metadata": {
    "execution": {
     "iopub.execute_input": "2022-01-26T19:38:04.899583Z",
     "iopub.status.busy": "2022-01-26T19:38:04.898734Z",
     "iopub.status.idle": "2022-01-26T19:38:05.531465Z",
     "shell.execute_reply": "2022-01-26T19:38:05.531917Z",
     "shell.execute_reply.started": "2022-01-26T18:44:12.899215Z"
    },
    "papermill": {
     "duration": 0.674993,
     "end_time": "2022-01-26T19:38:05.532076",
     "exception": false,
     "start_time": "2022-01-26T19:38:04.857083",
     "status": "completed"
    },
    "tags": []
   },
   "outputs": [
    {
     "name": "stderr",
     "output_type": "stream",
     "text": [
      "/opt/conda/lib/python3.7/site-packages/torch/utils/data/dataloader.py:481: UserWarning: This DataLoader will create 8 worker processes in total. Our suggested max number of worker in current system is 2, which is smaller than what this DataLoader is going to create. Please be aware that excessive worker creation might get DataLoader running slow or even freeze, lower the worker number to avoid potential slowness/freeze if necessary.\n",
      "  cpuset_checked))\n"
     ]
    }
   ],
   "source": [
    "data_dir = 'tiny-224'\n",
    "num_workers = {'train': 8, 'val': 0, 'test': 0}\n",
    "\n",
    "data_transforms = {\n",
    "    'train': transforms.Compose([\n",
    "        transforms.RandomRotation(20),\n",
    "        transforms.RandomHorizontalFlip(0.5),\n",
    "        transforms.ToTensor(),\n",
    "        transforms.Normalize([0.4802, 0.4481, 0.3975], [0.2302, 0.2265, 0.2262]),\n",
    "    ]),\n",
    "    'val': transforms.Compose([\n",
    "        transforms.ToTensor(),\n",
    "        transforms.Normalize([0.4802, 0.4481, 0.3975], [0.2302, 0.2265, 0.2262]),\n",
    "    ]),\n",
    "    'test': transforms.Compose([\n",
    "        transforms.ToTensor(),\n",
    "        transforms.Normalize([0.4802, 0.4481, 0.3975], [0.2302, 0.2265, 0.2262]),\n",
    "    ])\n",
    "}\n",
    "\n",
    "image_datasets = {x: datasets.ImageFolder(os.path.join(data_dir, x), data_transforms[x])\n",
    "                    for x in ['train', 'val', 'test']}\n",
    "\n",
    "data_loaders = {x: data.DataLoader(image_datasets[x], batch_size=100, shuffle=True, num_workers=num_workers[x])\n",
    "                   for x in ['train', 'val', 'test']}\n",
    "dataset_sizes = {x: len(image_datasets[x])\n",
    "                    for x in ['train', 'val', 'test']}"
   ]
  },
  {
   "cell_type": "code",
   "execution_count": 5,
   "id": "3d4690b0",
   "metadata": {
    "execution": {
     "iopub.execute_input": "2022-01-26T19:38:05.605422Z",
     "iopub.status.busy": "2022-01-26T19:38:05.604740Z",
     "iopub.status.idle": "2022-01-26T19:38:09.596029Z",
     "shell.execute_reply": "2022-01-26T19:38:09.596547Z",
     "shell.execute_reply.started": "2022-01-26T18:44:15.678403Z"
    },
    "papermill": {
     "duration": 4.030881,
     "end_time": "2022-01-26T19:38:09.596717",
     "exception": false,
     "start_time": "2022-01-26T19:38:05.565836",
     "status": "completed"
    },
    "tags": []
   },
   "outputs": [
    {
     "name": "stderr",
     "output_type": "stream",
     "text": [
      "Downloading: \"https://download.pytorch.org/models/resnet18-f37072fd.pth\" to /root/.cache/torch/hub/checkpoints/resnet18-f37072fd.pth\n"
     ]
    },
    {
     "data": {
      "application/vnd.jupyter.widget-view+json": {
       "model_id": "2cdbb73174ef4ac99f3da0175df65981",
       "version_major": 2,
       "version_minor": 0
      },
      "text/plain": [
       "  0%|          | 0.00/44.7M [00:00<?, ?B/s]"
      ]
     },
     "metadata": {},
     "output_type": "display_data"
    }
   ],
   "source": [
    "model = models.resnet18(True)\n",
    "\n",
    "# FineTune it\n",
    "model.avgpool = nn.AdaptiveAvgPool2d(1)\n",
    "model.fc.out_features = 200\n",
    "device = torch.device('cuda:0' if torch.cuda.is_available() else 'cpu')\n",
    "model = model.to(device)\n",
    "\n",
    "# Loss\n",
    "criterion = nn.CrossEntropyLoss()\n",
    "optimazer = optim.SGD(model.parameters(), lr=0.001, momentum=0.9)"
   ]
  },
  {
   "cell_type": "code",
   "execution_count": 6,
   "id": "a530c576",
   "metadata": {
    "execution": {
     "iopub.execute_input": "2022-01-26T19:38:09.668562Z",
     "iopub.status.busy": "2022-01-26T19:38:09.667818Z",
     "iopub.status.idle": "2022-01-26T20:23:29.035499Z",
     "shell.execute_reply": "2022-01-26T20:23:29.036126Z",
     "shell.execute_reply.started": "2022-01-26T18:44:34.660868Z"
    },
    "papermill": {
     "duration": 2719.406187,
     "end_time": "2022-01-26T20:23:29.036360",
     "exception": false,
     "start_time": "2022-01-26T19:38:09.630173",
     "status": "completed"
    },
    "tags": []
   },
   "outputs": [
    {
     "data": {
      "image/png": "[encoded data removed]",
      "text/plain": [
       "<Figure size 864x576 with 2 Axes>"
      ]
     },
     "metadata": {
      "needs_background": "light"
     },
     "output_type": "display_data"
    },
    {
     "name": "stdout",
     "output_type": "stream",
     "text": [
      "accuracy\n",
      "\ttraining         \t (min:    0.161, max:    0.766, cur:    0.766)\n",
      "\tvalidation       \t (min:    0.317, max:    0.682, cur:    0.682)\n",
      "log loss\n",
      "\ttraining         \t (min:    0.894, max:    4.312, cur:    0.894)\n",
      "\tvalidation       \t (min:    1.236, max:    2.957, cur:    1.236)\n",
      "Train Loss: 0.8940 Acc: 0.7665\n",
      "Val Loss: 1.2365 Acc: 0.6816\n",
      "\n",
      "Training complete in 45m 19s\n",
      "Best Validation Accuracy: 0.6824, Epoch: 9\n"
     ]
    }
   ],
   "source": [
    "# Train model \n",
    "num_epochs = 10\n",
    "train_model(output_path='224', model=model, dataloaders=data_loaders, dataset_sizes=dataset_sizes,\n",
    "               criterion=criterion, optimizer=optimazer, num_epochs=num_epochs)"
   ]
  },
  {
   "cell_type": "code",
   "execution_count": 7,
   "id": "b3eca80b",
   "metadata": {
    "execution": {
     "iopub.execute_input": "2022-01-26T20:23:29.112582Z",
     "iopub.status.busy": "2022-01-26T20:23:29.111813Z",
     "iopub.status.idle": "2022-01-26T20:23:53.175232Z",
     "shell.execute_reply": "2022-01-26T20:23:53.174699Z",
     "shell.execute_reply.started": "2022-01-26T19:31:43.866337Z"
    },
    "papermill": {
     "duration": 24.102745,
     "end_time": "2022-01-26T20:23:53.175369",
     "exception": false,
     "start_time": "2022-01-26T20:23:29.072624",
     "status": "completed"
    },
    "tags": []
   },
   "outputs": [
    {
     "data": {
      "text/plain": [
       "'/kaggle/working/model.zip'"
      ]
     },
     "execution_count": 7,
     "metadata": {},
     "output_type": "execute_result"
    }
   ],
   "source": [
    "import shutil\n",
    "shutil.make_archive('model', 'zip', './models')"
   ]
  },
  {
   "cell_type": "code",
   "execution_count": 8,
   "id": "567c5429",
   "metadata": {
    "execution": {
     "iopub.execute_input": "2022-01-26T20:23:53.304849Z",
     "iopub.status.busy": "2022-01-26T20:23:53.304074Z",
     "iopub.status.idle": "2022-01-26T20:23:54.212072Z",
     "shell.execute_reply": "2022-01-26T20:23:54.210820Z",
     "shell.execute_reply.started": "2022-01-26T19:33:35.528280Z"
    },
    "papermill": {
     "duration": 0.961051,
     "end_time": "2022-01-26T20:23:54.212249",
     "exception": false,
     "start_time": "2022-01-26T20:23:53.251198",
     "status": "completed"
    },
    "tags": []
   },
   "outputs": [
    {
     "name": "stdout",
     "output_type": "stream",
     "text": [
      "447M\t/kaggle/working/models\r\n"
     ]
    }
   ],
   "source": [
    "!du -sh /kaggle/working/models"
   ]
  },
  {
   "cell_type": "code",
   "execution_count": null,
   "id": "8fc7bee4",
   "metadata": {
    "papermill": {
     "duration": 0.359467,
     "end_time": "2022-01-26T20:23:54.650181",
     "exception": false,
     "start_time": "2022-01-26T20:23:54.290714",
     "status": "completed"
    },
    "tags": []
   },
   "outputs": [],
   "source": []
  },
  {
   "cell_type": "code",
   "execution_count": null,
   "id": "c7616d89",
   "metadata": {
    "papermill": {
     "duration": 0.060919,
     "end_time": "2022-01-26T20:23:54.776275",
     "exception": false,
     "start_time": "2022-01-26T20:23:54.715356",
     "status": "completed"
    },
    "tags": []
   },
   "outputs": [],
   "source": []
  },
  {
   "cell_type": "code",
   "execution_count": null,
   "id": "00a45949",
   "metadata": {
    "papermill": {
     "duration": 0.061073,
     "end_time": "2022-01-26T20:23:54.896676",
     "exception": false,
     "start_time": "2022-01-26T20:23:54.835603",
     "status": "completed"
    },
    "tags": []
   },
   "outputs": [],
   "source": []
  },
  {
   "cell_type": "code",
   "execution_count": null,
   "id": "0eb7f937",
   "metadata": {
    "papermill": {
     "duration": 0.034471,
     "end_time": "2022-01-26T20:23:54.985577",
     "exception": false,
     "start_time": "2022-01-26T20:23:54.951106",
     "status": "completed"
    },
    "tags": []
   },
   "outputs": [],
   "source": []
  },
  {
   "cell_type": "code",
   "execution_count": null,
   "id": "b0bbadc0",
   "metadata": {
    "papermill": {
     "duration": 0.035172,
     "end_time": "2022-01-26T20:23:55.055492",
     "exception": false,
     "start_time": "2022-01-26T20:23:55.020320",
     "status": "completed"
    },
    "tags": []
   },
   "outputs": [],
   "source": []
  },
  {
   "cell_type": "code",
   "execution_count": null,
   "id": "288cc65b",
   "metadata": {
    "papermill": {
     "duration": 0.034833,
     "end_time": "2022-01-26T20:23:55.125226",
     "exception": false,
     "start_time": "2022-01-26T20:23:55.090393",
     "status": "completed"
    },
    "tags": []
   },
   "outputs": [],
   "source": []
  },
  {
   "cell_type": "code",
   "execution_count": null,
   "id": "df03add2",
   "metadata": {
    "papermill": {
     "duration": 0.034839,
     "end_time": "2022-01-26T20:23:55.194838",
     "exception": false,
     "start_time": "2022-01-26T20:23:55.159999",
     "status": "completed"
    },
    "tags": []
   },
   "outputs": [],
   "source": []
  },
  {
   "cell_type": "code",
   "execution_count": null,
   "id": "565614ae",
   "metadata": {
    "papermill": {
     "duration": 0.034959,
     "end_time": "2022-01-26T20:23:55.264354",
     "exception": false,
     "start_time": "2022-01-26T20:23:55.229395",
     "status": "completed"
    },
    "tags": []
   },
   "outputs": [],
   "source": []
  },
  {
   "cell_type": "code",
   "execution_count": null,
   "id": "5a29bd01",
   "metadata": {
    "papermill": {
     "duration": 0.034812,
     "end_time": "2022-01-26T20:23:55.334518",
     "exception": false,
     "start_time": "2022-01-26T20:23:55.299706",
     "status": "completed"
    },
    "tags": []
   },
   "outputs": [],
   "source": []
  },
  {
   "cell_type": "code",
   "execution_count": null,
   "id": "57cb2612",
   "metadata": {
    "papermill": {
     "duration": 0.037667,
     "end_time": "2022-01-26T20:23:55.407343",
     "exception": false,
     "start_time": "2022-01-26T20:23:55.369676",
     "status": "completed"
    },
    "tags": []
   },
   "outputs": [],
   "source": []
  },
  {
   "cell_type": "code",
   "execution_count": null,
   "id": "506539b4",
   "metadata": {
    "papermill": {
     "duration": 0.035447,
     "end_time": "2022-01-26T20:23:55.479819",
     "exception": false,
     "start_time": "2022-01-26T20:23:55.444372",
     "status": "completed"
    },
    "tags": []
   },
   "outputs": [],
   "source": []
  },
  {
   "cell_type": "code",
   "execution_count": null,
   "id": "a7f623f4",
   "metadata": {
    "papermill": {
     "duration": 0.035819,
     "end_time": "2022-01-26T20:23:55.550483",
     "exception": false,
     "start_time": "2022-01-26T20:23:55.514664",
     "status": "completed"
    },
    "tags": []
   },
   "outputs": [],
   "source": []
  },
  {
   "cell_type": "code",
   "execution_count": null,
   "id": "3f183450",
   "metadata": {
    "papermill": {
     "duration": 0.035958,
     "end_time": "2022-01-26T20:23:55.621467",
     "exception": false,
     "start_time": "2022-01-26T20:23:55.585509",
     "status": "completed"
    },
    "tags": []
   },
   "outputs": [],
   "source": []
  },
  {
   "cell_type": "code",
   "execution_count": null,
   "id": "3ba6957f",
   "metadata": {
    "papermill": {
     "duration": 0.036068,
     "end_time": "2022-01-26T20:23:55.693321",
     "exception": false,
     "start_time": "2022-01-26T20:23:55.657253",
     "status": "completed"
    },
    "tags": []
   },
   "outputs": [],
   "source": []
  },
  {
   "cell_type": "code",
   "execution_count": null,
   "id": "5e0135da",
   "metadata": {
    "papermill": {
     "duration": 0.035058,
     "end_time": "2022-01-26T20:23:55.764059",
     "exception": false,
     "start_time": "2022-01-26T20:23:55.729001",
     "status": "completed"
    },
    "tags": []
   },
   "outputs": [],
   "source": []
  },
  {
   "cell_type": "code",
   "execution_count": null,
   "id": "3a30b54f",
   "metadata": {
    "papermill": {
     "duration": 0.034763,
     "end_time": "2022-01-26T20:23:55.833610",
     "exception": false,
     "start_time": "2022-01-26T20:23:55.798847",
     "status": "completed"
    },
    "tags": []
   },
   "outputs": [],
   "source": []
  },
  {
   "cell_type": "code",
   "execution_count": null,
   "id": "1a6d3c86",
   "metadata": {
    "papermill": {
     "duration": 0.035577,
     "end_time": "2022-01-26T20:23:55.905058",
     "exception": false,
     "start_time": "2022-01-26T20:23:55.869481",
     "status": "completed"
    },
    "tags": []
   },
   "outputs": [],
   "source": []
  },
  {
   "cell_type": "code",
   "execution_count": null,
   "id": "b1496912",
   "metadata": {
    "papermill": {
     "duration": 0.034736,
     "end_time": "2022-01-26T20:23:55.974665",
     "exception": false,
     "start_time": "2022-01-26T20:23:55.939929",
     "status": "completed"
    },
    "tags": []
   },
   "outputs": [],
   "source": []
  },
  {
   "cell_type": "code",
   "execution_count": null,
   "id": "3d5701a2",
   "metadata": {
    "papermill": {
     "duration": 0.035137,
     "end_time": "2022-01-26T20:23:56.045537",
     "exception": false,
     "start_time": "2022-01-26T20:23:56.010400",
     "status": "completed"
    },
    "tags": []
   },
   "outputs": [],
   "source": []
  },
  {
   "cell_type": "code",
   "execution_count": null,
   "id": "032f2af4",
   "metadata": {
    "papermill": {
     "duration": 0.034775,
     "end_time": "2022-01-26T20:23:56.115241",
     "exception": false,
     "start_time": "2022-01-26T20:23:56.080466",
     "status": "completed"
    },
    "tags": []
   },
   "outputs": [],
   "source": []
  },
  {
   "cell_type": "code",
   "execution_count": null,
   "id": "9dd5a438",
   "metadata": {
    "papermill": {
     "duration": 0.035301,
     "end_time": "2022-01-26T20:23:56.185327",
     "exception": false,
     "start_time": "2022-01-26T20:23:56.150026",
     "status": "completed"
    },
    "tags": []
   },
   "outputs": [],
   "source": []
  },
  {
   "cell_type": "code",
   "execution_count": null,
   "id": "9c98f459",
   "metadata": {
    "papermill": {
     "duration": 0.034675,
     "end_time": "2022-01-26T20:23:56.255066",
     "exception": false,
     "start_time": "2022-01-26T20:23:56.220391",
     "status": "completed"
    },
    "tags": []
   },
   "outputs": [],
   "source": []
  },
  {
   "cell_type": "code",
   "execution_count": null,
   "id": "79f14f12",
   "metadata": {
    "papermill": {
     "duration": 0.034441,
     "end_time": "2022-01-26T20:23:56.324405",
     "exception": false,
     "start_time": "2022-01-26T20:23:56.289964",
     "status": "completed"
    },
    "tags": []
   },
   "outputs": [],
   "source": []
  },
  {
   "cell_type": "code",
   "execution_count": null,
   "id": "5231a1f6",
   "metadata": {
    "papermill": {
     "duration": 0.035542,
     "end_time": "2022-01-26T20:23:56.394562",
     "exception": false,
     "start_time": "2022-01-26T20:23:56.359020",
     "status": "completed"
    },
    "tags": []
   },
   "outputs": [],
   "source": []
  },
  {
   "cell_type": "code",
   "execution_count": null,
   "id": "e9409ea9",
   "metadata": {
    "papermill": {
     "duration": 0.034557,
     "end_time": "2022-01-26T20:23:56.464126",
     "exception": false,
     "start_time": "2022-01-26T20:23:56.429569",
     "status": "completed"
    },
    "tags": []
   },
   "outputs": [],
   "source": []
  },
  {
   "cell_type": "code",
   "execution_count": null,
   "id": "a3f0807d",
   "metadata": {
    "papermill": {
     "duration": 0.03475,
     "end_time": "2022-01-26T20:23:56.533605",
     "exception": false,
     "start_time": "2022-01-26T20:23:56.498855",
     "status": "completed"
    },
    "tags": []
   },
   "outputs": [],
   "source": []
  },
  {
   "cell_type": "code",
   "execution_count": null,
   "id": "a27adf78",
   "metadata": {
    "papermill": {
     "duration": 0.035104,
     "end_time": "2022-01-26T20:23:56.604181",
     "exception": false,
     "start_time": "2022-01-26T20:23:56.569077",
     "status": "completed"
    },
    "tags": []
   },
   "outputs": [],
   "source": []
  }
 ],
 "metadata": {
  "kernelspec": {
   "display_name": "Python 3",
   "language": "python",
   "name": "python3"
  },
  "language_info": {
   "codemirror_mode": {
    "name": "ipython",
    "version": 3
   },
   "file_extension": ".py",
   "mimetype": "text/x-python",
   "name": "python",
   "nbconvert_exporter": "python",
   "pygments_lexer": "ipython3",
   "version": "3.7.12"
  },
  "papermill": {
   "default_parameters": {},
   "duration": 2962.082016,
   "end_time": "2022-01-26T20:23:58.157696",
   "environment_variables": {},
   "exception": null,
   "input_path": "__notebook__.ipynb",
   "output_path": "__notebook__.ipynb",
   "parameters": {},
   "start_time": "2022-01-26T19:34:36.075680",
   "version": "2.3.3"
  },
  "widgets": {
   "application/vnd.jupyter.widget-state+json": {
    "state": {
     "0daa0ee586164ea0bc40ef448288a258": {
      "model_module": "@jupyter-widgets/controls",
      "model_module_version": "1.5.0",
      "model_name": "HTMLModel",
      "state": {
       "_dom_classes": [],
       "_model_module": "@jupyter-widgets/controls",
       "_model_module_version": "1.5.0",
       "_model_name": "HTMLModel",
       "_view_count": null,
       "_view_module": "@jupyter-widgets/controls",
       "_view_module_version": "1.5.0",
       "_view_name": "HTMLView",
       "description": "",
       "description_tooltip": null,
       "layout": "IPY_MODEL_9da7dbd65a4f48d587ef894d7637e4b0",
       "placeholder": "​",
       "style": "IPY_MODEL_33b60e81ecd84e44a6282dc384b90f6c",
       "value": "100%"
      }
     },
     "1f7c9068a8614525b1806db3e6a58cf0": {
      "model_module": "@jupyter-widgets/controls",
      "model_module_version": "1.5.0",
      "model_name": "FloatProgressModel",
      "state": {
       "_dom_classes": [],
       "_model_module": "@jupyter-widgets/controls",
       "_model_module_version": "1.5.0",
       "_model_name": "FloatProgressModel",
       "_view_count": null,
       "_view_module": "@jupyter-widgets/controls",
       "_view_module_version": "1.5.0",
       "_view_name": "ProgressView",
       "bar_style": "success",
       "description": "",
       "description_tooltip": null,
       "layout": "IPY_MODEL_51c7f539220b40809cf186ef46ab7905",
       "max": 46830571.0,
       "min": 0.0,
       "orientation": "horizontal",
       "style": "IPY_MODEL_598b0a9e74504548a62606172070e65d",
       "value": 46830571.0
      }
     },
     "2cdbb73174ef4ac99f3da0175df65981": {
      "model_module": "@jupyter-widgets/controls",
      "model_module_version": "1.5.0",
      "model_name": "HBoxModel",
      "state": {
       "_dom_classes": [],
       "_model_module": "@jupyter-widgets/controls",
       "_model_module_version": "1.5.0",
       "_model_name": "HBoxModel",
       "_view_count": null,
       "_view_module": "@jupyter-widgets/controls",
       "_view_module_version": "1.5.0",
       "_view_name": "HBoxView",
       "box_style": "",
       "children": [
        "IPY_MODEL_0daa0ee586164ea0bc40ef448288a258",
        "IPY_MODEL_1f7c9068a8614525b1806db3e6a58cf0",
        "IPY_MODEL_eec4489b152d49d6bc08f61b8741684e"
       ],
       "layout": "IPY_MODEL_f1f817d6a4ba4a6ca02c871431703daf"
      }
     },
     "33b60e81ecd84e44a6282dc384b90f6c": {
      "model_module": "@jupyter-widgets/controls",
      "model_module_version": "1.5.0",
      "model_name": "DescriptionStyleModel",
      "state": {
       "_model_module": "@jupyter-widgets/controls",
       "_model_module_version": "1.5.0",
       "_model_name": "DescriptionStyleModel",
       "_view_count": null,
       "_view_module": "@jupyter-widgets/base",
       "_view_module_version": "1.2.0",
       "_view_name": "StyleView",
       "description_width": ""
      }
     },
     "51c7f539220b40809cf186ef46ab7905": {
      "model_module": "@jupyter-widgets/base",
      "model_module_version": "1.2.0",
      "model_name": "LayoutModel",
      "state": {
       "_model_module": "@jupyter-widgets/base",
       "_model_module_version": "1.2.0",
       "_model_name": "LayoutModel",
       "_view_count": null,
       "_view_module": "@jupyter-widgets/base",
       "_view_module_version": "1.2.0",
       "_view_name": "LayoutView",
       "align_content": null,
       "align_items": null,
       "align_self": null,
       "border": null,
       "bottom": null,
       "display": null,
       "flex": null,
       "flex_flow": null,
       "grid_area": null,
       "grid_auto_columns": null,
       "grid_auto_flow": null,
       "grid_auto_rows": null,
       "grid_column": null,
       "grid_gap": null,
       "grid_row": null,
       "grid_template_areas": null,
       "grid_template_columns": null,
       "grid_template_rows": null,
       "height": null,
       "justify_content": null,
       "justify_items": null,
       "left": null,
       "margin": null,
       "max_height": null,
       "max_width": null,
       "min_height": null,
       "min_width": null,
       "object_fit": null,
       "object_position": null,
       "order": null,
       "overflow": null,
       "overflow_x": null,
       "overflow_y": null,
       "padding": null,
       "right": null,
       "top": null,
       "visibility": null,
       "width": null
      }
     },
     "56682e2e5b644c90beacb80501bf0904": {
      "model_module": "@jupyter-widgets/controls",
      "model_module_version": "1.5.0",
      "model_name": "DescriptionStyleModel",
      "state": {
       "_model_module": "@jupyter-widgets/controls",
       "_model_module_version": "1.5.0",
       "_model_name": "DescriptionStyleModel",
       "_view_count": null,
       "_view_module": "@jupyter-widgets/base",
       "_view_module_version": "1.2.0",
       "_view_name": "StyleView",
       "description_width": ""
      }
     },
     "598b0a9e74504548a62606172070e65d": {
      "model_module": "@jupyter-widgets/controls",
      "model_module_version": "1.5.0",
      "model_name": "ProgressStyleModel",
      "state": {
       "_model_module": "@jupyter-widgets/controls",
       "_model_module_version": "1.5.0",
       "_model_name": "ProgressStyleModel",
       "_view_count": null,
       "_view_module": "@jupyter-widgets/base",
       "_view_module_version": "1.2.0",
       "_view_name": "StyleView",
       "bar_color": null,
       "description_width": ""
      }
     },
     "8fa5e878f2804ee7ba4b91f1a9df70fe": {
      "model_module": "@jupyter-widgets/base",
      "model_module_version": "1.2.0",
      "model_name": "LayoutModel",
      "state": {
       "_model_module": "@jupyter-widgets/base",
       "_model_module_version": "1.2.0",
       "_model_name": "LayoutModel",
       "_view_count": null,
       "_view_module": "@jupyter-widgets/base",
       "_view_module_version": "1.2.0",
       "_view_name": "LayoutView",
       "align_content": null,
       "align_items": null,
       "align_self": null,
       "border": null,
       "bottom": null,
       "display": null,
       "flex": null,
       "flex_flow": null,
       "grid_area": null,
       "grid_auto_columns": null,
       "grid_auto_flow": null,
       "grid_auto_rows": null,
       "grid_column": null,
       "grid_gap": null,
       "grid_row": null,
       "grid_template_areas": null,
       "grid_template_columns": null,
       "grid_template_rows": null,
       "height": null,
       "justify_content": null,
       "justify_items": null,
       "left": null,
       "margin": null,
       "max_height": null,
       "max_width": null,
       "min_height": null,
       "min_width": null,
       "object_fit": null,
       "object_position": null,
       "order": null,
       "overflow": null,
       "overflow_x": null,
       "overflow_y": null,
       "padding": null,
       "right": null,
       "top": null,
       "visibility": null,
       "width": null
      }
     },
     "9da7dbd65a4f48d587ef894d7637e4b0": {
      "model_module": "@jupyter-widgets/base",
      "model_module_version": "1.2.0",
      "model_name": "LayoutModel",
      "state": {
       "_model_module": "@jupyter-widgets/base",
       "_model_module_version": "1.2.0",
       "_model_name": "LayoutModel",
       "_view_count": null,
       "_view_module": "@jupyter-widgets/base",
       "_view_module_version": "1.2.0",
       "_view_name": "LayoutView",
       "align_content": null,
       "align_items": null,
       "align_self": null,
       "border": null,
       "bottom": null,
       "display": null,
       "flex": null,
       "flex_flow": null,
       "grid_area": null,
       "grid_auto_columns": null,
       "grid_auto_flow": null,
       "grid_auto_rows": null,
       "grid_column": null,
       "grid_gap": null,
       "grid_row": null,
       "grid_template_areas": null,
       "grid_template_columns": null,
       "grid_template_rows": null,
       "height": null,
       "justify_content": null,
       "justify_items": null,
       "left": null,
       "margin": null,
       "max_height": null,
       "max_width": null,
       "min_height": null,
       "min_width": null,
       "object_fit": null,
       "object_position": null,
       "order": null,
       "overflow": null,
       "overflow_x": null,
       "overflow_y": null,
       "padding": null,
       "right": null,
       "top": null,
       "visibility": null,
       "width": null
      }
     },
     "eec4489b152d49d6bc08f61b8741684e": {
      "model_module": "@jupyter-widgets/controls",
      "model_module_version": "1.5.0",
      "model_name": "HTMLModel",
      "state": {
       "_dom_classes": [],
       "_model_module": "@jupyter-widgets/controls",
       "_model_module_version": "1.5.0",
       "_model_name": "HTMLModel",
       "_view_count": null,
       "_view_module": "@jupyter-widgets/controls",
       "_view_module_version": "1.5.0",
       "_view_name": "HTMLView",
       "description": "",
       "description_tooltip": null,
       "layout": "IPY_MODEL_8fa5e878f2804ee7ba4b91f1a9df70fe",
       "placeholder": "​",
       "style": "IPY_MODEL_56682e2e5b644c90beacb80501bf0904",
       "value": " 44.7M/44.7M [00:00&lt;00:00, 75.6MB/s]"
      }
     },
     "f1f817d6a4ba4a6ca02c871431703daf": {
      "model_module": "@jupyter-widgets/base",
      "model_module_version": "1.2.0",
      "model_name": "LayoutModel",
      "state": {
       "_model_module": "@jupyter-widgets/base",
       "_model_module_version": "1.2.0",
       "_model_name": "LayoutModel",
       "_view_count": null,
       "_view_module": "@jupyter-widgets/base",
       "_view_module_version": "1.2.0",
       "_view_name": "LayoutView",
       "align_content": null,
       "align_items": null,
       "align_self": null,
       "border": null,
       "bottom": null,
       "display": null,
       "flex": null,
       "flex_flow": null,
       "grid_area": null,
       "grid_auto_columns": null,
       "grid_auto_flow": null,
       "grid_auto_rows": null,
       "grid_column": null,
       "grid_gap": null,
       "grid_row": null,
       "grid_template_areas": null,
       "grid_template_columns": null,
       "grid_template_rows": null,
       "height": null,
       "justify_content": null,
       "justify_items": null,
       "left": null,
       "margin": null,
       "max_height": null,
       "max_width": null,
       "min_height": null,
       "min_width": null,
       "object_fit": null,
       "object_position": null,
       "order": null,
       "overflow": null,
       "overflow_x": null,
       "overflow_y": null,
       "padding": null,
       "right": null,
       "top": null,
       "visibility": null,
       "width": null
      }
     }
    },
    "version_major": 2,
    "version_minor": 0
   }
  }
 },
 "nbformat": 4,
 "nbformat_minor": 5
}
